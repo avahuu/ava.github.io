{
 "cells": [
  {
   "cell_type": "markdown",
   "metadata": {},
   "source": [
    "# Computational Social Science Project #3 \n",
    "\n",
    "**Enter your Name:**_Ava Hu___________\n",
    "\n",
    "*Semester:* Fall 2024"
   ]
  },
  {
   "cell_type": "markdown",
   "metadata": {},
   "source": [
    "## 1. Introduction\n",
    "\n",
    "### Load data "
   ]
  },
  {
   "cell_type": "code",
   "execution_count": null,
   "metadata": {},
   "outputs": [],
   "source": [
    "#\n",
    "# load libraries\n",
    "# -----------\n",
    "import pandas as pd\n",
    "import numpy as np\n",
    "pd.set_option('display.max_columns', None)\n",
    "import seaborn as sns\n",
    "import matplotlib.pyplot as plt\n",
    "%matplotlib inline\n",
    "from sklearn.preprocessing import LabelBinarizer\n",
    "\n",
    "# There are a few warnings that will appear that will not affect your analysis. Run this code to ignore. \n",
    "import warnings\n",
    "warnings.filterwarnings(\"ignore\", category=UserWarning)"
   ]
  },
  {
   "cell_type": "code",
   "execution_count": null,
   "metadata": {},
   "outputs": [],
   "source": [
    "#\n",
    "# read in \"Inspections Data 2011-2013\" csv data\n",
    "# -----------\n",
    "chicago_inspections_2011_to_2013 = pd.read_csv(\"data/Chicago Inspections 2011-2013.csv\", \n",
    "                                              low_memory=False)\n",
    "\n",
    "#\n",
    "# read in  \"Inspections Data 2014_updated\" csv data\n",
    "# -----------\n",
    "chicago_inspections_2014 = pd.read_csv(\"data/Chicago Inspections 2014_updated.csv\",  # be sure to use the \"updated\" data here\n",
    "                                      low_memory=False)"
   ]
  },
  {
   "cell_type": "code",
   "execution_count": null,
   "metadata": {},
   "outputs": [],
   "source": [
    "# look at the inspections data\n",
    "chicago_inspections_2011_to_2013.head()"
   ]
  },
  {
   "cell_type": "code",
   "execution_count": null,
   "metadata": {},
   "outputs": [],
   "source": [
    "# list column names\n",
    "chicago_inspections_2011_to_2013.columns"
   ]
  },
  {
   "cell_type": "code",
   "execution_count": null,
   "metadata": {},
   "outputs": [],
   "source": [
    "# drop column names related to geography, identification, and pass/fail flags that perfectly predict the outcome\n",
    "chicago_inspections_2011_to_2013.drop(columns = ['AKA_Name', \n",
    "                                                 'License',\n",
    "                                                 'Address',\n",
    "                                                 'City',\n",
    "                                                 'State',\n",
    "                                                 'Zip',\n",
    "                                                 'Latitude',\n",
    "                                                 'Longitude',\n",
    "                                                 'Location',\n",
    "                                                 'ID',\n",
    "                                                 'LICENSE_ID',\n",
    "                                                 'LICENSE_TERM_START_DATE',\n",
    "                                                 'LICENSE_TERM_EXPIRATION_DATE',\n",
    "                                                 'LICENSE_STATUS',\n",
    "                                                 'ACCOUNT_NUMBER',\n",
    "                                                 'LEGAL_NAME',\n",
    "                                                 'DOING_BUSINESS_AS_NAME',\n",
    "                                                 'ADDRESS',\n",
    "                                                 'CITY',\n",
    "                                                 'STATE',\n",
    "                                                 'ZIP_CODE',\n",
    "                                                 'WARD',\n",
    "                                                 'PRECINCT',\n",
    "                                                 'LICENSE_CODE',\n",
    "                                                 'BUSINESS_ACTIVITY_ID',\n",
    "                                                 'BUSINESS_ACTIVITY',\n",
    "                                                 'LICENSE_NUMBER',\n",
    "                                                 'LATITUDE',\n",
    "                                                 'LONGITUDE',\n",
    "                                                 'pass_flag',\n",
    "                                                 'fail_flag'],\n",
    "                                     inplace = True)\n",
    "\n",
    "# set index\n",
    "chicago_inspections_2011_to_2013.set_index(['Inspection_ID', 'DBA_Name'], inplace = True)"
   ]
  },
  {
   "cell_type": "code",
   "execution_count": null,
   "metadata": {},
   "outputs": [],
   "source": [
    "# convert the inspection date to a datetime format\n",
    "chicago_inspections_2011_to_2013['Inspection_Date'] = pd.to_datetime(chicago_inspections_2011_to_2013['Inspection_Date'])  "
   ]
  },
  {
   "cell_type": "markdown",
   "metadata": {},
   "source": [
    "### Visualization"
   ]
  },
  {
   "cell_type": "markdown",
   "metadata": {},
   "source": [
    "Let's visualize what inspections look like over time."
   ]
  },
  {
   "cell_type": "code",
   "execution_count": null,
   "metadata": {},
   "outputs": [],
   "source": [
    "# visualize inspections over time\n",
    "# -----------\n",
    "chicago_inspections_2011_to_2013['Inspection_MonthYear'] = chicago_inspections_2011_to_2013['Inspection_Date'].dt.to_period('M')\n",
    "counts_by_day = chicago_inspections_2011_to_2013.groupby('Inspection_MonthYear').count().rename(columns = {'Facility_Type': 'Count'})['Count'].reset_index()\n",
    "counts_by_day.set_index([\"Inspection_MonthYear\"], inplace = True)\n",
    "counts_by_day.plot(title = \"Inspections by Month and Year\") "
   ]
  },
  {
   "cell_type": "markdown",
   "metadata": {},
   "source": [
    "Let's visualize what the distribution of results looks like."
   ]
  },
  {
   "cell_type": "code",
   "execution_count": null,
   "metadata": {},
   "outputs": [],
   "source": [
    "# view inspection results\n",
    "# -----------\n",
    "sns.catplot(data = chicago_inspections_2011_to_2013,\n",
    "           x = \"Results\",\n",
    "           kind = \"count\")\n",
    "\n",
    "plt.title(\"Inspection Results\")\n",
    "plt.show()"
   ]
  },
  {
   "cell_type": "markdown",
   "metadata": {},
   "source": [
    "What if we separate results by facility type?"
   ]
  },
  {
   "cell_type": "code",
   "execution_count": null,
   "metadata": {},
   "outputs": [],
   "source": [
    "# view inspection results by facility type (restaurant or not)\n",
    "# -----------\n",
    "sns.catplot(data = chicago_inspections_2011_to_2013,\n",
    "            x = \"Results\",\n",
    "            kind = \"count\",\n",
    "            hue = 'Facility_Type_Clean')\n",
    "\n",
    "plt.title(\"Inspection Results by Facility Type\")\n",
    "plt.show();"
   ]
  },
  {
   "cell_type": "markdown",
   "metadata": {},
   "source": [
    "## 2. Data Preprocessing and Cleaning"
   ]
  },
  {
   "cell_type": "code",
   "execution_count": null,
   "metadata": {},
   "outputs": [],
   "source": [
    "# drop datetime info\n",
    "# -----------\n",
    "chicago_inspections_2011_to_2013 = chicago_inspections_2011_to_2013.dropna().drop(['Inspection_Date',\n",
    "                                                                                   'minDate',\n",
    "                                                                                   'maxDate',\n",
    "                                                                                   'Inspection_MonthYear'],\n",
    "                                                                                  axis = 1)"
   ]
  },
  {
   "cell_type": "code",
   "execution_count": null,
   "metadata": {},
   "outputs": [],
   "source": [
    "# process target \n",
    "# -----------\n",
    "y = chicago_inspections_2011_to_2013['Results']\n",
    "\n",
    "# decide if you want to binarize the outcome variable \n",
    "# -----------\n",
    "# comment out the following lines of code if you don't want to binarize the target variable\n",
    "y = y.replace({'Pass w/ Conditions': 'Pass'})\n",
    "lb_style = LabelBinarizer()\n",
    "y = lb_style.fit_transform(y)\n",
    "\n",
    "# recode 0s and 1s so 1s are \"Fail\"\n",
    "y = np.where(y == 1, 0 ,1)\n",
    "\n",
    "\n",
    "# process features\n",
    "# -----------\n",
    "\n",
    "# create feature dataset\n",
    "X = chicago_inspections_2011_to_2013.drop(columns = ['Results', \n",
    "                                                     'Facility_Type', \n",
    "                                                     'LICENSE_DESCRIPTION', \n",
    "                                                     'WARD_PRECINCT'])\n",
    "\n",
    "\n",
    "# get dummies\n",
    "X = pd.get_dummies(X)"
   ]
  },
  {
   "cell_type": "code",
   "execution_count": null,
   "metadata": {},
   "outputs": [],
   "source": [
    "# view feature datset\n",
    "X.head()"
   ]
  },
  {
   "cell_type": "markdown",
   "metadata": {},
   "source": [
    "## 3. Fit Models"
   ]
  },
  {
   "cell_type": "markdown",
   "metadata": {},
   "source": [
    "Now choose 3 different machine learning techniques and apply them below. Choose from one of the algorithms we have used in lab (e.g., logistic regression, random forests, `AdaBoost()`, `xgboost()`, `VotingClassifer()`, or `BART`). \n",
    "\n",
    "Detail the basic logic and assumptions underlying each model, its pros/cons, and why it is a plausible choice for this problem. Also, be sure to do the following:\n",
    "\n",
    "1. Import the appropriate library from sklearn\n",
    "2. Set up a hyperparameter grid (check out our previous labs to see how to do this)\n",
    "3. Find the best hyperparameters, and then fit your model (using either train/validation splits or cross-validation)"
   ]
  },
  {
   "cell_type": "markdown",
   "metadata": {},
   "source": [
    "### Data Splitting"
   ]
  },
  {
   "cell_type": "markdown",
   "metadata": {},
   "source": [
    "### Model 1 LogisticRegression"
   ]
  },
  {
   "cell_type": "code",
   "execution_count": null,
   "metadata": {},
   "outputs": [
    {
     "data": {
      "image/png": "[encoded data removed]",
      "text/plain": [
       "<Figure size 640x480 with 1 Axes>"
      ]
     },
     "metadata": {},
     "output_type": "display_data"
    },
    {
     "data": {
      "image/png": "[encoded data removed]",
      "text/plain": [
       "<Figure size 1000x700 with 2 Axes>"
      ]
     },
     "metadata": {},
     "output_type": "display_data"
    }
   ],
   "source": [
    "# Import necessary libraries\n",
    "from sklearn.linear_model import LogisticRegression\n",
    "from sklearn.metrics import confusion_matrix, accuracy_score\n",
    "from sklearn.model_selection import GridSearchCV, train_test_split\n",
    "\n",
    "# Split data into training and validation sets\n",
    "X_train, X_validate, y_train, y_validate = train_test_split(X, y, test_size=0.2, random_state=10)\n",
    "\n",
    "# Create a logistic regression model\n",
    "logit_reg = LogisticRegression(max_iter=1000)\n",
    "\n",
    "# Fit the model to the training data\n",
    "logit_model = logit_reg.fit(X_train, y_train)\n",
    "\n",
    "# Predict on the validation data\n",
    "y_pred = logit_model.predict(X_validate)\n",
    "\n",
    "# Extract coefficients and create a dataframe for plotting\n",
    "logit_data = pd.concat([pd.DataFrame(X.columns), \n",
    "                        pd.DataFrame(np.transpose(logit_model.coef_))], \n",
    "                       axis=1)\n",
    "\n",
    "logit_data.columns = ['Feature', 'Coefficient']\n",
    "logit_data['abs_coef'] = abs(logit_data['Coefficient'])\n",
    "\n",
    "# Plot the top coefficients\n",
    "sns.barplot(x=\"Coefficient\", \n",
    "            y=\"Feature\", \n",
    "            data=logit_data.nlargest(10, 'abs_coef')).set_title(\"Top Logit Coefficients\")\n",
    "plt.show()\n",
    "\n",
    "# Create and plot a confusion matrix\n",
    "cf_matrix = confusion_matrix(y_validate, \n",
    "                             y_pred, \n",
    "                             normalize=\"true\")\n",
    "\n",
    "# Convert confusion matrix to dataframe\n",
    "df_cm = pd.DataFrame(cf_matrix, range(2), range(2))\n",
    "df_cm = df_cm.rename(index=str, columns={0: \"Fail\", 1: \"Pass\"})  \n",
    "df_cm.index = [\"Fail\", \"Pass\"]\n",
    "plt.figure(figsize=(10, 7))\n",
    "sns.set(font_scale=1.4)  # Adjust label size\n",
    "sns.heatmap(df_cm, \n",
    "            annot=True, \n",
    "            annot_kws={\"size\": 16}, \n",
    "            fmt='g')\n",
    "\n",
    "# Plot the confusion matrix\n",
    "plt.title(\"Confusion Matrix\")\n",
    "plt.xlabel(\"Predicted Label\")\n",
    "plt.ylabel(\"True Label\")\n",
    "plt.show()\n",
    "\n",
    "# Hyperparameter Tuning with GridSearchCV\n",
    "param_grid_logreg = {\n",
    "    'C': [0.1, 1, 10, 100],  # Regularization strength\n",
    "    'solver': ['liblinear', 'newton-cg', 'lbfgs'],  # Algorithm to use for optimization\n",
    "    'max_iter': [100, 200, 300],  # Maximum number of iterations\n",
    "    'penalty': ['l2', 'none'],  # Regularization type\n",
    "}\n",
    "\n",
    "# Apply GridSearchCV for hyperparameter tuning\n",
    "grid_search = GridSearchCV(estimator=logit_reg, param_grid=param_grid_logreg, cv=5)\n",
    "grid_search.fit(X_train, y_train)\n",
    "\n",
    "# Best hyperparameters\n",
    "print(f\"Best hyperparameters: {grid_search.best_params_}\")\n",
    "\n",
    "# Train the model with the best hyperparameters\n",
    "best_logit_model = grid_search.best_estimator_\n",
    "\n",
    "# Predict with the tuned model\n",
    "y_pred_tuned = best_logit_model.predict(X_validate)\n",
    "\n",
    "# Evaluate the tuned model\n",
    "tuned_accuracy = accuracy_score(y_validate, y_pred_tuned)\n",
    "print(f\"Accuracy of tuned model: {tuned_accuracy}\")\n",
    "\n",
    "# Create and plot a confusion matrix for the tuned model\n",
    "cf_matrix_tuned = confusion_matrix(y_validate, y_pred_tuned, normalize=\"true\")\n",
    "df_cm_tuned = pd.DataFrame(cf_matrix_tuned, range(2), range(2))\n",
    "df_cm_tuned = df_cm_tuned.rename(index=str, columns={0: \"Fail\", 1: \"Pass\"})\n",
    "df_cm_tuned.index = [\"Fail\", \"Pass\"]\n",
    "plt.figure(figsize=(10, 7))\n",
    "sns.set(font_scale=1.4)\n",
    "sns.heatmap(df_cm_tuned, annot=True, annot_kws={\"size\": 16}, fmt='g')\n",
    "plt.title(\"Confusion Matrix (Tuned Model)\")\n",
    "plt.xlabel(\"Predicted Label\")\n",
    "plt.ylabel(\"True Label\")\n",
    "plt.show()\n"
   ]
  },
  {
   "cell_type": "markdown",
   "metadata": {},
   "source": [
    "#### Logistic Regression\n",
    "\n",
    "Basic Logic: Logistic regression models the probability of a binary outcome using the logistic function.\n",
    "Instead of predicting the target variable directly, it predicts the log odds of the target (Pass vs. Fail) as a linear combination of the input features.\n",
    "\n",
    "Assumptions: Linear relationship: Assumes a linear relationship between the independent variables and the log odds of the dependent variable.\n",
    "Independence: Features should not be highly collinear.\n",
    "No extreme outliers: Outliers can disproportionately influence the model.\n",
    "Balanced data: Works best when the dataset is not severely imbalanced between the target classes.\n",
    "\n",
    "Pros:\n",
    "Interpretability: Coefficients provide insights into the importance and direction of influence of each feature.\n",
    "Efficiency: Computationally efficient, especially with small to moderately sized datasets.\n",
    "Regularization: Can handle overfitting with L1 (Lasso) and L2 (Ridge) regularization.\n",
    "Simplicity: Easy to implement and does not require extensive hyperparameter tuning compared to more complex models.\n",
    "Cons:\n",
    "Linear boundaries: Logistic regression struggles with non-linear relationships between the features and the target.\n",
    "Sensitive to multicollinearity: High correlations between features can skew coefficient estimates.\n",
    "Imbalanced data: Poor performance if one class dominates unless class weights or resampling methods are used.\n"
   ]
  },
  {
   "cell_type": "markdown",
   "metadata": {},
   "source": [
    "###  Model 2 Random Forest"
   ]
  },
  {
   "cell_type": "code",
   "execution_count": 148,
   "metadata": {},
   "outputs": [
    {
     "name": "stdout",
     "output_type": "stream",
     "text": [
      "Best parameters for Random Forest: {'bootstrap': True, 'max_depth': None, 'min_samples_leaf': 1, 'min_samples_split': 2, 'n_estimators': 200}\n",
      "Random Forest Accuracy: 0.9245837414299706\n",
      "Classification Report for Random Forest:\n",
      "                     precision    recall  f1-score   support\n",
      "\n",
      "              Fail       0.77      0.92      0.84       628\n",
      "              Pass       0.99      1.00      0.99      2056\n",
      "Pass w/ Conditions       0.85      0.54      0.66       379\n",
      "\n",
      "          accuracy                           0.92      3063\n",
      "         macro avg       0.87      0.82      0.83      3063\n",
      "      weighted avg       0.93      0.92      0.92      3063\n",
      "\n"
     ]
    }
   ],
   "source": [
    "\n",
    "# settings\n",
    "%matplotlib inline\n",
    "#sns.set_style(\"darkgrid\")\n",
    "\n",
    "from sklearn.ensemble import RandomForestClassifier\n",
    "from sklearn.metrics import accuracy_score, classification_report\n",
    "\n",
    "# Separate features (X) and target (y)\n",
    "X = chicago_inspections_2011_to_2013.drop(columns='Results')  \n",
    "y = chicago_inspections_2011_to_2013['Results']  \n",
    "\n",
    "# One-hot encoding for categorical columns\n",
    "X = pd.get_dummies(X, drop_first=True)\n",
    "\n",
    "# Ensure there are no missing values\n",
    "X = X.fillna(0)  \n",
    "\n",
    "# Split the data into train and test sets\n",
    "X_train, X_test, y_train, y_test = train_test_split(X, y, test_size=0.2, random_state=42)\n",
    "\n",
    "# Initialize Random Forest Classifier\n",
    "rf_classifier = RandomForestClassifier(random_state=42)\n",
    "\n",
    "# Hyperparameter grid for Random Forest\n",
    "param_grid_rf = {\n",
    "    'n_estimators': [100, 200],\n",
    "    'max_depth': [10, 20, None],\n",
    "    'min_samples_split': [2, 5],\n",
    "    'min_samples_leaf': [1, 2],\n",
    "    'bootstrap': [True, False]\n",
    "}\n",
    "\n",
    "# Grid search for Random Forest\n",
    "grid_search_rf = GridSearchCV(rf_classifier, param_grid_rf, cv=5, scoring='accuracy', n_jobs=-1)\n",
    "grid_search_rf.fit(X_train, y_train)\n",
    "\n",
    "# Best parameters and evaluation\n",
    "print(\"Best parameters for Random Forest:\", grid_search_rf.best_params_)\n",
    "\n",
    "y_pred_rf = grid_search_rf.predict(X_test)\n",
    "print(\"Random Forest Accuracy:\", accuracy_score(y_test, y_pred_rf))\n",
    "print(\"Classification Report for Random Forest:\\n\", classification_report(y_test, y_pred_rf))\n"
   ]
  },
  {
   "cell_type": "markdown",
   "metadata": {
    "jp-MarkdownHeadingCollapsed": true
   },
   "source": [
    "#### Advantages of RandomForest\n",
    "\n",
    "Logic: Combines multiple decision trees using bagging to improve prediction and reduce variance.\n",
    "Pros:\n",
    "Handles non-linear relationships.\n",
    "Works well with categorical and numerical data.\n",
    "Robust against overfitting due to averaging across trees.\n",
    "\n",
    "Cons:\n",
    "Computationally expensive for large datasets.\n",
    "Difficult to interpret compared to simpler models.\n",
    "This implementation ensures thorough model training, validation, and feature analysis while leveraging the power of Random Forest for classification tasks."
   ]
  },
  {
   "cell_type": "markdown",
   "metadata": {},
   "source": [
    "### Model 3 BART"
   ]
  },
  {
   "cell_type": "code",
   "execution_count": null,
   "metadata": {},
   "outputs": [
    {
     "name": "stdout",
     "output_type": "stream",
     "text": [
      "Requirement already satisfied: pymc in /opt/anaconda3/lib/python3.12/site-packages (5.18.0)\n",
      "Requirement already satisfied: arviz>=0.13.0 in /opt/anaconda3/lib/python3.12/site-packages (from pymc) (0.20.0)\n",
      "Requirement already satisfied: cachetools>=4.2.1 in /opt/anaconda3/lib/python3.12/site-packages (from pymc) (5.3.3)\n",
      "Requirement already satisfied: cloudpickle in /opt/anaconda3/lib/python3.12/site-packages (from pymc) (2.2.1)\n",
      "Requirement already satisfied: numpy>=1.15.0 in /opt/anaconda3/lib/python3.12/site-packages (from pymc) (1.26.4)\n",
      "Requirement already satisfied: pandas>=0.24.0 in /opt/anaconda3/lib/python3.12/site-packages (from pymc) (2.2.2)\n",
      "Requirement already satisfied: pytensor<2.26,>=2.25.1 in /opt/anaconda3/lib/python3.12/site-packages (from pymc) (2.25.5)\n",
      "Requirement already satisfied: rich>=13.7.1 in /opt/anaconda3/lib/python3.12/site-packages (from pymc) (13.9.4)\n",
      "Requirement already satisfied: scipy>=1.4.1 in /opt/anaconda3/lib/python3.12/site-packages (from pymc) (1.13.1)\n",
      "Requirement already satisfied: threadpoolctl<4.0.0,>=3.1.0 in /opt/anaconda3/lib/python3.12/site-packages (from pymc) (3.5.0)\n",
      "Requirement already satisfied: typing-extensions>=3.7.4 in /opt/anaconda3/lib/python3.12/site-packages (from pymc) (4.11.0)\n",
      "Requirement already satisfied: setuptools>=60.0.0 in /opt/anaconda3/lib/python3.12/site-packages (from arviz>=0.13.0->pymc) (69.5.1)\n",
      "Requirement already satisfied: matplotlib>=3.5 in /opt/anaconda3/lib/python3.12/site-packages (from arviz>=0.13.0->pymc) (3.8.4)\n",
      "Requirement already satisfied: packaging in /opt/anaconda3/lib/python3.12/site-packages (from arviz>=0.13.0->pymc) (23.2)\n",
      "Requirement already satisfied: xarray>=2022.6.0 in /opt/anaconda3/lib/python3.12/site-packages (from arviz>=0.13.0->pymc) (2023.6.0)\n",
      "Requirement already satisfied: h5netcdf>=1.0.2 in /opt/anaconda3/lib/python3.12/site-packages (from arviz>=0.13.0->pymc) (1.4.1)\n",
      "Requirement already satisfied: xarray-einstats>=0.3 in /opt/anaconda3/lib/python3.12/site-packages (from arviz>=0.13.0->pymc) (0.8.0)\n",
      "Requirement already satisfied: python-dateutil>=2.8.2 in /opt/anaconda3/lib/python3.12/site-packages (from pandas>=0.24.0->pymc) (2.9.0.post0)\n",
      "Requirement already satisfied: pytz>=2020.1 in /opt/anaconda3/lib/python3.12/site-packages (from pandas>=0.24.0->pymc) (2024.1)\n",
      "Requirement already satisfied: tzdata>=2022.7 in /opt/anaconda3/lib/python3.12/site-packages (from pandas>=0.24.0->pymc) (2023.3)\n",
      "Requirement already satisfied: filelock>=3.15 in /opt/anaconda3/lib/python3.12/site-packages (from pytensor<2.26,>=2.25.1->pymc) (3.16.1)\n",
      "Requirement already satisfied: etuples in /opt/anaconda3/lib/python3.12/site-packages (from pytensor<2.26,>=2.25.1->pymc) (0.3.9)\n",
      "Requirement already satisfied: logical-unification in /opt/anaconda3/lib/python3.12/site-packages (from pytensor<2.26,>=2.25.1->pymc) (0.4.6)\n",
      "Requirement already satisfied: miniKanren in /opt/anaconda3/lib/python3.12/site-packages (from pytensor<2.26,>=2.25.1->pymc) (1.0.3)\n",
      "Requirement already satisfied: cons in /opt/anaconda3/lib/python3.12/site-packages (from pytensor<2.26,>=2.25.1->pymc) (0.4.6)\n",
      "Requirement already satisfied: markdown-it-py>=2.2.0 in /opt/anaconda3/lib/python3.12/site-packages (from rich>=13.7.1->pymc) (2.2.0)\n",
      "Requirement already satisfied: pygments<3.0.0,>=2.13.0 in /opt/anaconda3/lib/python3.12/site-packages (from rich>=13.7.1->pymc) (2.15.1)\n",
      "Requirement already satisfied: h5py in /opt/anaconda3/lib/python3.12/site-packages (from h5netcdf>=1.0.2->arviz>=0.13.0->pymc) (3.11.0)\n",
      "Requirement already satisfied: mdurl~=0.1 in /opt/anaconda3/lib/python3.12/site-packages (from markdown-it-py>=2.2.0->rich>=13.7.1->pymc) (0.1.0)\n",
      "Requirement already satisfied: contourpy>=1.0.1 in /opt/anaconda3/lib/python3.12/site-packages (from matplotlib>=3.5->arviz>=0.13.0->pymc) (1.2.0)\n",
      "Requirement already satisfied: cycler>=0.10 in /opt/anaconda3/lib/python3.12/site-packages (from matplotlib>=3.5->arviz>=0.13.0->pymc) (0.11.0)\n",
      "Requirement already satisfied: fonttools>=4.22.0 in /opt/anaconda3/lib/python3.12/site-packages (from matplotlib>=3.5->arviz>=0.13.0->pymc) (4.51.0)\n",
      "Requirement already satisfied: kiwisolver>=1.3.1 in /opt/anaconda3/lib/python3.12/site-packages (from matplotlib>=3.5->arviz>=0.13.0->pymc) (1.4.4)\n",
      "Requirement already satisfied: pillow>=8 in /opt/anaconda3/lib/python3.12/site-packages (from matplotlib>=3.5->arviz>=0.13.0->pymc) (10.3.0)\n",
      "Requirement already satisfied: pyparsing>=2.3.1 in /opt/anaconda3/lib/python3.12/site-packages (from matplotlib>=3.5->arviz>=0.13.0->pymc) (3.0.9)\n",
      "Requirement already satisfied: six>=1.5 in /opt/anaconda3/lib/python3.12/site-packages (from python-dateutil>=2.8.2->pandas>=0.24.0->pymc) (1.16.0)\n",
      "Requirement already satisfied: toolz in /opt/anaconda3/lib/python3.12/site-packages (from logical-unification->pytensor<2.26,>=2.25.1->pymc) (0.12.0)\n",
      "Requirement already satisfied: multipledispatch in /opt/anaconda3/lib/python3.12/site-packages (from logical-unification->pytensor<2.26,>=2.25.1->pymc) (0.6.0)\n",
      "Requirement already satisfied: pymc_bart in /opt/anaconda3/lib/python3.12/site-packages (0.7.1)\n",
      "Requirement already satisfied: pymc<=5.18,>=5.16.2 in /opt/anaconda3/lib/python3.12/site-packages (from pymc_bart) (5.18.0)\n",
      "Requirement already satisfied: arviz>=0.18.0 in /opt/anaconda3/lib/python3.12/site-packages (from pymc_bart) (0.20.0)\n",
      "Requirement already satisfied: numba in /opt/anaconda3/lib/python3.12/site-packages (from pymc_bart) (0.59.1)\n",
      "Requirement already satisfied: matplotlib in /opt/anaconda3/lib/python3.12/site-packages (from pymc_bart) (3.8.4)\n",
      "Requirement already satisfied: numpy in /opt/anaconda3/lib/python3.12/site-packages (from pymc_bart) (1.26.4)\n",
      "Requirement already satisfied: setuptools>=60.0.0 in /opt/anaconda3/lib/python3.12/site-packages (from arviz>=0.18.0->pymc_bart) (69.5.1)\n",
      "Requirement already satisfied: scipy>=1.9.0 in /opt/anaconda3/lib/python3.12/site-packages (from arviz>=0.18.0->pymc_bart) (1.13.1)\n",
      "Requirement already satisfied: packaging in /opt/anaconda3/lib/python3.12/site-packages (from arviz>=0.18.0->pymc_bart) (23.2)\n",
      "Requirement already satisfied: pandas>=1.5.0 in /opt/anaconda3/lib/python3.12/site-packages (from arviz>=0.18.0->pymc_bart) (2.2.2)\n",
      "Requirement already satisfied: xarray>=2022.6.0 in /opt/anaconda3/lib/python3.12/site-packages (from arviz>=0.18.0->pymc_bart) (2023.6.0)\n",
      "Requirement already satisfied: h5netcdf>=1.0.2 in /opt/anaconda3/lib/python3.12/site-packages (from arviz>=0.18.0->pymc_bart) (1.4.1)\n",
      "Requirement already satisfied: typing-extensions>=4.1.0 in /opt/anaconda3/lib/python3.12/site-packages (from arviz>=0.18.0->pymc_bart) (4.11.0)\n",
      "Requirement already satisfied: xarray-einstats>=0.3 in /opt/anaconda3/lib/python3.12/site-packages (from arviz>=0.18.0->pymc_bart) (0.8.0)\n",
      "Requirement already satisfied: contourpy>=1.0.1 in /opt/anaconda3/lib/python3.12/site-packages (from matplotlib->pymc_bart) (1.2.0)\n",
      "Requirement already satisfied: cycler>=0.10 in /opt/anaconda3/lib/python3.12/site-packages (from matplotlib->pymc_bart) (0.11.0)\n",
      "Requirement already satisfied: fonttools>=4.22.0 in /opt/anaconda3/lib/python3.12/site-packages (from matplotlib->pymc_bart) (4.51.0)\n",
      "Requirement already satisfied: kiwisolver>=1.3.1 in /opt/anaconda3/lib/python3.12/site-packages (from matplotlib->pymc_bart) (1.4.4)\n",
      "Requirement already satisfied: pillow>=8 in /opt/anaconda3/lib/python3.12/site-packages (from matplotlib->pymc_bart) (10.3.0)\n",
      "Requirement already satisfied: pyparsing>=2.3.1 in /opt/anaconda3/lib/python3.12/site-packages (from matplotlib->pymc_bart) (3.0.9)\n",
      "Requirement already satisfied: python-dateutil>=2.7 in /opt/anaconda3/lib/python3.12/site-packages (from matplotlib->pymc_bart) (2.9.0.post0)\n",
      "Requirement already satisfied: cachetools>=4.2.1 in /opt/anaconda3/lib/python3.12/site-packages (from pymc<=5.18,>=5.16.2->pymc_bart) (5.3.3)\n",
      "Requirement already satisfied: cloudpickle in /opt/anaconda3/lib/python3.12/site-packages (from pymc<=5.18,>=5.16.2->pymc_bart) (2.2.1)\n",
      "Requirement already satisfied: pytensor<2.26,>=2.25.1 in /opt/anaconda3/lib/python3.12/site-packages (from pymc<=5.18,>=5.16.2->pymc_bart) (2.25.5)\n",
      "Requirement already satisfied: rich>=13.7.1 in /opt/anaconda3/lib/python3.12/site-packages (from pymc<=5.18,>=5.16.2->pymc_bart) (13.9.4)\n",
      "Requirement already satisfied: threadpoolctl<4.0.0,>=3.1.0 in /opt/anaconda3/lib/python3.12/site-packages (from pymc<=5.18,>=5.16.2->pymc_bart) (3.5.0)\n",
      "Requirement already satisfied: llvmlite<0.43,>=0.42.0dev0 in /opt/anaconda3/lib/python3.12/site-packages (from numba->pymc_bart) (0.42.0)\n",
      "Requirement already satisfied: h5py in /opt/anaconda3/lib/python3.12/site-packages (from h5netcdf>=1.0.2->arviz>=0.18.0->pymc_bart) (3.11.0)\n",
      "Requirement already satisfied: pytz>=2020.1 in /opt/anaconda3/lib/python3.12/site-packages (from pandas>=1.5.0->arviz>=0.18.0->pymc_bart) (2024.1)\n",
      "Requirement already satisfied: tzdata>=2022.7 in /opt/anaconda3/lib/python3.12/site-packages (from pandas>=1.5.0->arviz>=0.18.0->pymc_bart) (2023.3)\n",
      "Requirement already satisfied: filelock>=3.15 in /opt/anaconda3/lib/python3.12/site-packages (from pytensor<2.26,>=2.25.1->pymc<=5.18,>=5.16.2->pymc_bart) (3.16.1)\n",
      "Requirement already satisfied: etuples in /opt/anaconda3/lib/python3.12/site-packages (from pytensor<2.26,>=2.25.1->pymc<=5.18,>=5.16.2->pymc_bart) (0.3.9)\n",
      "Requirement already satisfied: logical-unification in /opt/anaconda3/lib/python3.12/site-packages (from pytensor<2.26,>=2.25.1->pymc<=5.18,>=5.16.2->pymc_bart) (0.4.6)\n",
      "Requirement already satisfied: miniKanren in /opt/anaconda3/lib/python3.12/site-packages (from pytensor<2.26,>=2.25.1->pymc<=5.18,>=5.16.2->pymc_bart) (1.0.3)\n",
      "Requirement already satisfied: cons in /opt/anaconda3/lib/python3.12/site-packages (from pytensor<2.26,>=2.25.1->pymc<=5.18,>=5.16.2->pymc_bart) (0.4.6)\n",
      "Requirement already satisfied: six>=1.5 in /opt/anaconda3/lib/python3.12/site-packages (from python-dateutil>=2.7->matplotlib->pymc_bart) (1.16.0)\n",
      "Requirement already satisfied: markdown-it-py>=2.2.0 in /opt/anaconda3/lib/python3.12/site-packages (from rich>=13.7.1->pymc<=5.18,>=5.16.2->pymc_bart) (2.2.0)\n",
      "Requirement already satisfied: pygments<3.0.0,>=2.13.0 in /opt/anaconda3/lib/python3.12/site-packages (from rich>=13.7.1->pymc<=5.18,>=5.16.2->pymc_bart) (2.15.1)\n",
      "Requirement already satisfied: mdurl~=0.1 in /opt/anaconda3/lib/python3.12/site-packages (from markdown-it-py>=2.2.0->rich>=13.7.1->pymc<=5.18,>=5.16.2->pymc_bart) (0.1.0)\n",
      "Requirement already satisfied: toolz in /opt/anaconda3/lib/python3.12/site-packages (from logical-unification->pytensor<2.26,>=2.25.1->pymc<=5.18,>=5.16.2->pymc_bart) (0.12.0)\n",
      "Requirement already satisfied: multipledispatch in /opt/anaconda3/lib/python3.12/site-packages (from logical-unification->pytensor<2.26,>=2.25.1->pymc<=5.18,>=5.16.2->pymc_bart) (0.6.0)\n"
     ]
    },
    {
     "name": "stderr",
     "output_type": "stream",
     "text": [
      "Auto-assigning NUTS sampler...\n",
      "Initializing NUTS using jitter+adapt_diag...\n",
      "Multiprocess sampling (4 chains in 4 jobs)\n",
      "NUTS: [tau, intercept, beta, y_obs_unobserved]\n"
     ]
    },
    {
     "data": {
      "application/vnd.jupyter.widget-view+json": {
       "model_id": "1c307608c58844dfa3e731593bb0c25a",
       "version_major": 2,
       "version_minor": 0
      },
      "text/plain": [
       "Output()"
      ]
     },
     "metadata": {},
     "output_type": "display_data"
    }
   ],
   "source": [
    "!pip install pymc\n",
    "!pip install pymc_bart\n",
    "\n",
    "import pandas as pd\n",
    "import numpy as np\n",
    "from sklearn.preprocessing import StandardScaler\n",
    "from sklearn.model_selection import train_test_split\n",
    "import pymc as pm\n",
    "import matplotlib.pyplot as plt\n",
    "\n",
    "# Converting 'Pass' -> 0 and 'Fail' -> 1 for the target variable\n",
    "y = chicago_inspections_2011_to_2013['Results'].map({'Pass': 0, 'Fail': 1})\n",
    "\n",
    "# STEP 2: Identify categorical columns and apply One-Hot Encoding\n",
    "categorical_columns = ['Facility_Type', 'Risk', 'Inspection_Type', \n",
    "                       'Facility_Type_Clean', 'WARD_PRECINCT', 'POLICE_DISTRICT', \n",
    "                       'LICENSE_DESCRIPTION', 'APPLICATION_TYPE']\n",
    "\n",
    "# Apply One-Hot Encoding to categorical columns\n",
    "X = pd.get_dummies(chicago_inspections_2011_to_2013.drop(columns='Results'), \n",
    "                   columns=categorical_columns, drop_first=True)\n",
    "\n",
    "# Ensure there are no missing values\n",
    "X = X.fillna(0)\n",
    "\n",
    "# STEP 3: Standardize the features to ensure consistency in scale\n",
    "scaler = StandardScaler()\n",
    "X_scaled = scaler.fit_transform(X)\n",
    "\n",
    "# STEP 4: Split the data into training and testing sets (80% for training, 20% for testing)\n",
    "X_train, X_test, y_train, y_test = train_test_split(X_scaled, y, test_size=0.2, random_state=42)\n",
    "\n",
    "# Define and train the BART model using PyMC\n",
    "with pm.Model() as bart_model:\n",
    "    # Define priors\n",
    "    tau = pm.HalfNormal(\"tau\", sigma=1)\n",
    "    intercept = pm.Normal(\"intercept\", mu=0, sigma=10)\n",
    "    \n",
    "    # Linear approximation for the BART model (to be adjusted for actual tree-based BART)\n",
    "    beta = pm.Normal(\"beta\", mu=0, sigma=10, shape=(X_train.shape[1],))\n",
    "    mu = intercept + pm.math.dot(X_train, beta)\n",
    "    \n",
    "    # Normal likelihood for observed data\n",
    "    y_obs = pm.Normal(\"y_obs\", mu=mu, sigma=tau, observed=y_train)\n",
    "    \n",
    "    # Sampling from the posterior\n",
    "    trace = pm.sample(1000, tune=2000, return_inferencedata=True)\n",
    "\n",
    "# Summarize the results\n",
    "pm.summary(trace)\n",
    "\n",
    "# Predict on the test set\n",
    "with bart_model:\n",
    "    y_pred_bart = pm.sample_posterior_predictive(trace, var_names=[\"beta\", \"intercept\"], samples=500)\n",
    "\n",
    "# Compute the mean prediction\n",
    "y_pred_bart_mean = np.mean(y_pred_bart[\"beta\"], axis=0)\n",
    "\n",
    "# Convert predictions to binary (based on threshold)\n",
    "y_pred_binary = (y_pred_bart_mean > 0.5).astype(int)\n",
    "\n",
    "from sklearn.metrics import accuracy_score, classification_report\n",
    "\n",
    "# Evaluate the model\n",
    "print(\"BART Model Accuracy:\", accuracy_score(y_test, y_pred_binary))\n",
    "print(\"Classification Report for BART:\\n\", classification_report(y_test, y_pred_binary))\n",
    "\n",
    "# Visualize the feature importance (Optional)\n",
    "feature_importance = np.mean(np.abs(y_pred_bart[\"beta\"]), axis=0)\n",
    "sorted_idx = np.argsort(feature_importance)[::-1]\n",
    "\n",
    "# Plotting feature importance\n",
    "plt.figure(figsize=(10, 6))\n",
    "plt.barh(X.columns[sorted_idx], feature_importance[sorted_idx], color=\"skyblue\")\n",
    "plt.title(\"Feature Importance for BART Model\")\n",
    "plt.xlabel(\"Importance Score\")\n",
    "plt.ylabel(\"Features\")\n",
    "plt.show()"
   ]
  },
  {
   "cell_type": "markdown",
   "metadata": {},
   "source": [
    "#### BART Model:\n",
    "\n",
    "Logic: BART is a Bayesian ensemble of decision trees that models the target as a sum of trees with random priors, learning by sampling from the posterior distribution.\n",
    "\n",
    "Assumptions: Assumes non-linear relationships and models uncertainty through its Bayesian framework.\n",
    "\n",
    "Pros: Flexible, reduces overfitting, provides uncertainty in predictions, handles noisy data well.\n",
    "Cons: Computationally intensive, requires tuning, less interpretable compared to simpler models."
   ]
  },
  {
   "cell_type": "markdown",
   "metadata": {},
   "source": [
    "### Validation Metrics"
   ]
  },
  {
   "cell_type": "markdown",
   "metadata": {},
   "source": [
    "Be sure to explain which of these metrics you would want to prioritize when conducting predictive auditing in this context and why.\n",
    "\n",
    "**Hint**: Try writing a for loop to use [`cross_val_score()`](https://scikit-learn.org/stable/modules/generated/sklearn.model_selection.cross_val_score.html) to check for accuracy, precision, recall and f1 across all of your models."
   ]
  },
  {
   "cell_type": "code",
   "execution_count": null,
   "metadata": {},
   "outputs": [],
   "source": [
    "from sklearn.model_selection import cross_val_score\n",
    "from sklearn.metrics import accuracy_score, precision_score, recall_score, f1_score, make_scorer\n",
    "import pymc_bart as pmb\n",
    "\n",
    "models = {\n",
    "    \"Logistic Regression\": logit_model,\n",
    "    \"Random Forest\": rf_model\n",
    "}\n",
    "\n",
    "# Scoring metrics to use with cross-validation\n",
    "scoring = {\n",
    "    'accuracy': 'accuracy',\n",
    "    'precision': 'precision',\n",
    "    'recall': 'recall',\n",
    "    'f1': 'f1'\n",
    "}\n",
    "\n",
    "# Iterate through each model and evaluate using cross-validation\n",
    "for model_name, model in models.items():\n",
    "    print(f\"Results for {model_name}:\")\n",
    "    for metric_name, metric in scoring.items():\n",
    "        scores = cross_val_score(model, X, y, cv=5, scoring=metric)\n",
    "        print(f\"{metric_name.capitalize()}: {scores.mean():.4f} (+/- {scores.std():.4f})\")\n",
    "    print(\"\\n\")\n",
    "\n",
    "# Manual validation for the BART model\n",
    "# Split data for manual validation for BART\n",
    "x_train, x_test, y_train, y_test = train_test_split(X.values, y.values, test_size=0.2, random_state=42)\n",
    "\n",
    "# Make predictions using BART (manual process)\n",
    "with bart_model:\n",
    "    post_pred = pm.sample_posterior_predictive(idata_bart, var_names=[\"μ\"], random_seed=42)\n",
    "    \n",
    "# Calculate the mean prediction (binary classification assumed, adjust for your use case)\n",
    "bart_pred_mean = post_pred[\"μ\"].mean(axis=0)\n",
    "bart_pred_binary = (bart_pred_mean > 0.5).astype(int)  # Adjust threshold if needed\n",
    "\n",
    "# Evaluate BART metrics\n",
    "bart_accuracy = accuracy_score(y_test, bart_pred_binary)\n",
    "bart_precision = precision_score(y_test, bart_pred_binary)\n",
    "bart_recall = recall_score(y_test, bart_pred_binary)\n",
    "bart_f1 = f1_score(y_test, bart_pred_binary)\n",
    "\n",
    "# Print BART results\n",
    "print(\"Results for BART Model:\")\n",
    "print(f\"Accuracy: {bart_accuracy:.4f}\")\n",
    "print(f\"Precision: {bart_precision:.4f}\")\n",
    "print(f\"Recall: {bart_recall:.4f}\")\n",
    "print(f\"F1 Score: {bart_f1:.4f}\")\n"
   ]
  },
  {
   "cell_type": "markdown",
   "metadata": {},
   "source": [
    "## 4. Policy Simulation"
   ]
  },
  {
   "cell_type": "markdown",
   "metadata": {},
   "source": [
    "### Interpretable Machine Learning\n",
    "\n",
    "Use tools like coefficient plots or feature importance plots to investigate your models. Which features contribute to your predictions? Are there any additional features you wish you could incorporate that you don't have available in this analysis?\n",
    "\n",
    "**Hint**: Use tools like feature importance plots and coefficient plots."
   ]
  },
  {
   "cell_type": "markdown",
   "metadata": {},
   "source": [
    "### 1.Random Forest"
   ]
  },
  {
   "cell_type": "code",
   "execution_count": null,
   "metadata": {},
   "outputs": [],
   "source": [
    "# Feature importance for Random Forest\n",
    "def plot_feature_importance(model, feature_names):\n",
    "    # Get feature importance from the Random Forest model\n",
    "    importance = model.feature_importances_\n",
    "    \n",
    "    # Sort feature importance in descending order\n",
    "    sorted_idx = np.arimport matplotlib.pyplot as plt\n",
    "import seaborn as sns\n",
    "import pandas as pd\n",
    "\n",
    "# Coefficient plot for Logistic Regression\n",
    "def plot_coefficients(model, feature_names):\n",
    "    # Extract coefficients from the logistic regression model\n",
    "    coefficients = model.coef_.flatten()  # If multi-class, this should select the appropriate class's coefficients\n",
    "\n",
    "    # If the model has multiple classes, we need to handle the correct class\n",
    "    if len(coefficients.shape) == 2:  # multi-class classification\n",
    "        coefficients = coefficients[0]  # Select the coefficients for the first class (or any specific class)\n",
    "    \n",
    "    # Create a dataframe for coefficients\n",
    "    coef_df = pd.DataFrame({'Feature': feature_names, 'Coefficient': coefficients})\n",
    "    coef_df = coef_df.sort_values(by='Coefficient', ascending=False)\n",
    "    \n",
    "    # Plot coefficients\n",
    "    plt.figure(figsize=(12, 8))\n",
    "    sns.barplot(data=coef_df, x='Coefficient', y='Feature', palette=\"coolwarm\")\n",
    "    plt.title('Coefficient Plot for Logistic Regression')\n",
    "    plt.xlabel('Coefficient Value')\n",
    "    plt.ylabel('Features')\n",
    "    plt.axvline(x=0, color='gray', linestyle='--')\n",
    "    plt.show()\n",
    "\n",
    "# Use the function with your trained Logistic Regression model\n",
    "plot_coefficients(logit_model, X.columns)\n",
    "gsort(importance)[::-1]\n",
    "    sorted_importance = importance[sorted_idx]\n",
    "    sorted_features = np.array(feature_names)[sorted_idx]\n",
    "\n",
    "    # Plot the feature importance\n",
    "    plt.figure(figsize=(12, 8))\n",
    "    sns.barplot(x=sorted_importance, y=sorted_features, palette=\"viridis\")\n",
    "    plt.title('Feature Importance for Random Forest')\n",
    "    plt.xlabel('Importance Score')\n",
    "    plt.ylabel('Features')\n",
    "    plt.show()\n",
    "\n",
    "plot_feature_importance(rf_model, X.columns)\n"
   ]
  },
  {
   "cell_type": "markdown",
   "metadata": {},
   "source": [
    "### 2.Logistic Regression"
   ]
  },
  {
   "cell_type": "code",
   "execution_count": null,
   "metadata": {},
   "outputs": [],
   "source": [
    "import matplotlib.pyplot as plt\n",
    "\n",
    "# Coefficient plot for Logistic Regression\n",
    "def plot_coefficients(model, feature_names):\n",
    "    # Extract coefficients from the logistic regression model\n",
    "    coefficients = model.coef_.flatten()\n",
    "    \n",
    "    # Create a dataframe for coefficients\n",
    "    coef_df = pd.DataFrame({'Feature': feature_names, 'Coefficient': coefficients})\n",
    "    coef_df = coef_df.sort_values(by='Coefficient', ascending=False)\n",
    "    \n",
    "    # Plot coefficients\n",
    "    plt.figure(figsize=(12, 8))\n",
    "    sns.barplot(data=coef_df, x='Coefficient', y='Feature', palette=\"coolwarm\")\n",
    "    plt.title('Coefficient Plot for Logistic Regression')\n",
    "    plt.xlabel('Coefficient Value')\n",
    "    plt.ylabel('Features')\n",
    "    plt.axvline(x=0, color='gray', linestyle='--')\n",
    "    plt.show()\n",
    "\n",
    "# Use the function with your trained Logistic Regression model\n",
    "plot_coefficients(logit_model, X.columns)\n"
   ]
  },
  {
   "cell_type": "markdown",
   "metadata": {},
   "source": [
    "### 3.BART "
   ]
  },
  {
   "cell_type": "code",
   "execution_count": null,
   "metadata": {},
   "outputs": [],
   "source": [
    "import arviz as az\n",
    "\n",
    "with bart_model:\n",
    "    # Get variable inclusion proportions from the BART fit\n",
    "    variable_importance = idata_bart.posterior['μ_'].mean(dim=['draw', 'chain']).mean(axis=0)\n",
    "\n",
    "plt.figure(figsize=(12, 8))\n",
    "plt.barh(X.columns, variable_importance)\n",
    "plt.title('Variable Importance in BART Model')\n",
    "plt.xlabel('Importance Score')\n",
    "plt.ylabel('Features')\n",
    "plt.show()\n"
   ]
  },
  {
   "cell_type": "markdown",
   "metadata": {},
   "source": [
    "### Prioritize Audits"
   ]
  },
  {
   "cell_type": "markdown",
   "metadata": {},
   "source": [
    "**Hint**: Look up the [`.predict()`](https://www.kite.com/python/docs/sklearn.linear_model.SGDRegressor.predict), [`.predict_proba()`](https://www.kite.com/python/docs/sklearn.linear_model.LogisticRegression.predict_proba), and [`.sample()`](https://pandas.pydata.org/pandas-docs/stable/reference/api/pandas.DataFrame.sample.html) methods. Then: \n",
    "1. Choose one of your models (or train a new simplified model or ensemble!) to predict outcomes and probabilities. \n",
    "2. Order your audits by their probability of detecting a \"Fail\" score\n",
    "3. Plot your distribution of pass/fail among the first 1,000 observations in the dataset\n",
    "4. Simulate random audits on the full chicago_2011_to_2013.csv dataset by picking 1,000 observations at random"
   ]
  },
  {
   "cell_type": "code",
   "execution_count": null,
   "metadata": {},
   "outputs": [],
   "source": [
    "#\n",
    "# 1. Choose one of your models (or train a new simplified model or ensemble!) to predict outcomes and probabilities.\n",
    "# -----------\n",
    "\n",
    "data['fail_probability'] = logit_model.predict_proba(X)[:, 1]  "
   ]
  },
  {
   "cell_type": "code",
   "execution_count": null,
   "metadata": {},
   "outputs": [],
   "source": [
    "#\n",
    "# 2. Order your audits by their probability of detecting a \"Fail\" score\n",
    "# -----------\n",
    "ordered_data = data.sort_values(by='fail_probability', ascending=False)"
   ]
  },
  {
   "cell_type": "code",
   "execution_count": null,
   "metadata": {},
   "outputs": [],
   "source": [
    "#\n",
    "# 3. Plot your distribution of pass/fail among the first 1,000 observations in the dataset\n",
    "# -----------\n",
    "top_1000 = ordered_data.head(1000)\n",
    "plt.figure(figsize=(10, 6))\n",
    "sns.countplot(x='Y', data=top_1000, palette='coolwarm')\n",
    "plt.title('Distribution of Pass/Fail among Top 1,000 High-Fail-Probability Observations')\n",
    "plt.xlabel('Outcome (0: Pass, 1: Fail)')\n",
    "plt.ylabel('Count')\n",
    "plt.show()"
   ]
  },
  {
   "cell_type": "code",
   "execution_count": null,
   "metadata": {},
   "outputs": [],
   "source": [
    "#\n",
    "# 4. Simulate random audits on the full chicago_2011_to_2013.csv dataset by picking 1,000 observations at random\n",
    "# -----------\n",
    "random_audit_sample = data.sample(n=1000, random_state=42)\n",
    "plt.figure(figsize=(10, 6))\n",
    "sns.countplot(x='Y', data=random_audit_sample, palette='coolwarm')\n",
    "plt.title('Distribution of Pass/Fail among Random 1,000 Observations')\n",
    "plt.xlabel('Outcome (0: Pass, 1: Fail)')\n",
    "plt.ylabel('Count')\n",
    "plt.show()"
   ]
  },
  {
   "cell_type": "markdown",
   "metadata": {},
   "source": [
    "### Predict on 2014 inspection data\n",
    "\n",
    "Use your favorite model to make predictions based on the features using the \"Chicago Inspection 2014_updated.csv\" file. Treat this as you would a test dataset. This means you will have to format the features (including removing some features and getting dummies) and the label (binarize and recode) in the same way you did the training data. (Remember the \"Results\" column is your label). You will then compare your predictions with the actual."
   ]
  },
  {
   "cell_type": "code",
   "execution_count": null,
   "metadata": {},
   "outputs": [],
   "source": [
    "\n",
    "# Load the 2014 inspection data\n",
    "import pandas as pd\n",
    "from sklearn.metrics import classification_report\n",
    "\n",
    "# Load the new dataset (test set)\n",
    "chicago_inspections_2014 = pd.read_csv('Chicago Inspection 2014_updated.csv')\n",
    "\n",
    "# Process features (X_test2014)\n",
    "X_test2014 = chicago_inspections_2014.drop(['DBA_Name', 'Address', 'Inspection_Date', 'License_Number'], axis=1)\n",
    "X_test2014 = pd.get_dummies(X_test2014)\n",
    "X_test2014 = X_test2014.reindex(columns=X_train.columns, fill_value=0)\n",
    "\n",
    "# Process the target (y_test2014)\n",
    "y_test2014 = chicago_inspections_2014['Results'].apply(lambda x: 1 if x == 'Fail' else 0)\n"
   ]
  },
  {
   "cell_type": "code",
   "execution_count": null,
   "metadata": {},
   "outputs": [],
   "source": [
    "# predict and compare \n",
    "# -----------\n",
    "y_pred_2014 = logit_model.predict(X_test2014)\n",
    "y_pred_proba_2014 = logit_model.predict_proba(X_test2014)[:, 1]\n",
    "\n",
    "# Compare predictions with actual outcomes\n",
    "print(\"Classification Report for 2014 Data:\")\n",
    "print(classification_report(y_test2014, y_pred_2014))\n",
    "\n",
    "# Save the predictions to a CSV file\n",
    "predictions_2014 = pd.DataFrame({\n",
    "    'Actual': y_test2014,\n",
    "    'Predicted': y_pred_2014,\n",
    "    'Probability of Fail': y_pred_proba_2014\n",
    "})\n",
    "predictions_2014.to_csv('2014_predictions.csv', index=False)"
   ]
  },
  {
   "cell_type": "code",
   "execution_count": null,
   "metadata": {},
   "outputs": [],
   "source": [
    "# evaluate\n",
    "# -----------\n",
    "from sklearn.metrics import precision_score\n",
    "\n",
    "# Remove the 'Results' column from the features before prediction\n",
    "X_test2014 = chicago_inspections_2014.drop(['Results', 'DBA_Name', 'Address', 'Inspection_Date', 'License_Number'], axis=1)\n",
    "X_test2014 = pd.get_dummies(X_test2014)\n",
    "X_test2014 = X_test2014.reindex(columns=X_train.columns, fill_value=0)\n",
    "\n",
    "# True labels\n",
    "y_test2014 = chicago_inspections_2014['Results'].apply(lambda x: 1 if x == 'Fail' else 0)\n",
    "\n",
    "# Make predictions\n",
    "y_pred_2014 = logit_model.predict(X_test2014)\n",
    "\n",
    "# Calculate Precision\n",
    "precision = precision_score(y_test2014, y_pred_2014)\n",
    "print(f\"Precision: {precision:.3f}\")\n"
   ]
  },
  {
   "cell_type": "markdown",
   "metadata": {},
   "source": [
    "In the context of health and safety inspections, precision is critical when false positives—incorrectly predicting a 'Fail' when it's actually a 'Pass'—are costly. High precision means that when the model flags an establishment as a \"Fail,\" it is highly likely to be correct. This minimizes unnecessary follow-up inspections and avoids burdening compliant businesses. By focusing on precision, we ensure that flagged failures are genuinely problematic, which is crucial when resources for follow-up inspections are limited, or when accuracy in identifying violations is a priority for maintaining public trust and operational efficiency."
   ]
  },
  {
   "cell_type": "markdown",
   "metadata": {},
   "source": [
    "## 5. Discussion Questions"
   ]
  },
  {
   "cell_type": "markdown",
   "metadata": {},
   "source": [
    "1. Why do we need metrics beyond accuracy when using machine learning in the social sciences and public policy?\n",
    "\n"
   ]
  },
  {
   "cell_type": "markdown",
   "metadata": {},
   "source": [
    "**YOUR ANSWER HERE**...\n",
    "We need metrics beyond accuracy in social sciences and public policy because accuracy alone doesn’t show the full picture. A model can be accurate most of the time but still make critical mistakes. For example, in policy work, it's often more important to correctly identify specific groups or issues, even if it means sacrificing some overall accuracy. Metrics like precision and recall help us understand how well the model catches the cases we care most about, like identifying all people in need without too many false alarms. This makes sure decisions are fair and effective."
   ]
  },
  {
   "cell_type": "markdown",
   "metadata": {},
   "source": [
    "2. Imagine that establishments learned about the algorithm being used to determine who gets audited and they started adjusting their behavior (and changing certain key features about themselves that were important for the prediction) to avoid detection. How could policymakers address this interplay between algorithmic decisionmaking and real world behavior?"
   ]
  },
  {
   "cell_type": "markdown",
   "metadata": {},
   "source": [
    "**YOUR ANSWER HERE**...\n",
    "\n",
    "If establishments start changing their behavior to avoid detection, policymakers need to make sure the system stays fair and effective. One way to do this is to regularly update the algorithm so it can adapt to new patterns of behavior. Another strategy is to include random audits along with the algorithmic predictions. This makes it harder for establishments to completely avoid detection by only changing certain features. Policymakers could also focus on transparency and education, making it clear why certain features matter and encouraging genuine improvement instead of just gaming the system. This way, the focus stays on real compliance, not just beating the algorithm."
   ]
  },
  {
   "cell_type": "code",
   "execution_count": null,
   "metadata": {},
   "outputs": [],
   "source": []
  }
 ],
 "metadata": {
  "kernelspec": {
   "display_name": "Python 3 (ipykernel)",
   "language": "python",
   "name": "python3"
  },
  "language_info": {
   "codemirror_mode": {
    "name": "ipython",
    "version": 3
   },
   "file_extension": ".py",
   "mimetype": "text/x-python",
   "name": "python",
   "nbconvert_exporter": "python",
   "pygments_lexer": "ipython3",
   "version": "3.12.4"
  }
 },
 "nbformat": 4,
 "nbformat_minor": 4
}
